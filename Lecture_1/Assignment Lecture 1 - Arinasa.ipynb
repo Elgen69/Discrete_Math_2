{
 "cells": [
  {
   "cell_type": "markdown",
   "metadata": {},
   "source": [
    "# Lecture 1: Assignment\n",
    "Made by Elgen <br>\n",
    "BSCS - 1\n",
    "<hr>\n"
   ]
  },
  {
   "cell_type": "markdown",
   "metadata": {},
   "source": [
    "## Questions:"
   ]
  },
  {
   "cell_type": "markdown",
   "metadata": {},
   "source": [
    "1. Recall the definition of a rational number, denoted as $\\mathbb{Q}$. Prove that the Euler's number $e = \\Sigma_{k=0}^\\infty \\frac{1}{k!} \\notin \\mathbb{Q}$. A factorial is defined as $k! = (k)(k-1)(k-2)(k-3)..., \\forall k \\in \\mathbb{Z}^+$, note that $0! = 1$. Furthermore, a sum notation $\\Sigma_{k=0}^\\infty k = 0+ 1 + 2 + 3 +....+...$"
   ]
  },
  {
   "cell_type": "markdown",
   "metadata": {},
   "source": [
    "## Solution: Proving $e$ is Irrational\n",
    "\n",
    "**Proof By Contradiction**\n",
    "\n",
    "Let's assume, for the sake of contradiction, that there exist integers $p$ and $q$, where $p\\in \\mathbb{Z}$ and $q \\in \\mathbb{N}$, such that $e = \\frac{p}{q}$.\n",
    "\n",
    "Then, we have:\n",
    "\\begin{align*}\n",
    "    \\frac{p}{q} &= \\frac{1}{0!} + \\frac{1}{1!} + \\frac{1}{2!} + \\dots + \\frac{1}{q!} \\\\\n",
    "    &= \\frac{p}{q} - \\frac{1}{0!} - \\dots - \\frac{1}{q!} = \\frac{1}{(q + 1)!} + \\dots  \\\\\n",
    "    &= \\frac{p\\cdot q!}{q} - \\frac{q!}{0!} - \\dots - \\frac{q!}{q!} = \\frac{q!}{(q + 1)!} + \\frac{q!}{(q + 2)!} + \\dots \\\\\n",
    "    &= \\frac{p\\cdot q!}{q} - \\frac{q!}{0!} - \\dots - \\frac{q!}{q!} = \\frac{q!}{(q + 1)q!} + \\frac{q!}{(q + 2)(q + 1)q!} + \\dots \\\\\n",
    "    &= \\frac{p\\cdot q!}{q} - \\frac{q!}{0!} - \\dots - \\frac{q!}{q!} = \\frac{1}{q + 1} + \\frac{1}{(q + 2)(q + 1)} + \\dots\n",
    "\\end{align*}\n",
    "\n",
    "This leads to a contradiction. Hence, $e$ is irrational.\n",
    "<hr>\n"
   ]
  },
  {
   "cell_type": "markdown",
   "metadata": {},
   "source": [
    "2. Prove Minkowski's Inequality for sums, $\\forall \\ p>1, (a_k, b_k)>0$ &nbsp;: &nbsp;\n",
    "$\\left( \\sum_{k=1}^n |a_k + b_k|^p \\right)^\\frac{1}{p}$\n",
    "$\\leq$\n",
    "$\\left( \\sum_{k=1}^n |a_k|^p \\right)^\\frac{1}{p}$ +\n",
    "$\\left( \\sum_{k=1}^n |b_k|^p \\right)^\\frac{1}{p}$\n",
    "\n",
    "\n"
   ]
  },
  {
   "cell_type": "markdown",
   "metadata": {},
   "source": [
    "## Solution: Proof of Minkowski's Inequality\n",
    "\n",
    "**Proof By Contradiction**\n",
    "\n",
    "Assume, for contradiction, that:\n",
    "$$ \\left( \\sum_{k=1}^n |a_k + b_k|^p \\right)^{\\frac{1}{p}} > \\left( \\sum_{k=1}^n |a_k|^p \\right)^{\\frac{1}{p}} + \\left( \\sum_{k=1}^n |b_k|^p \\right)^{\\frac{1}{p}} $$\n",
    "\n",
    "This implies:\n",
    "$$ \\sum_{k=1}^n |a_k + b_k|^p > \\left( \\sum_{k=1}^n |a_k|^p \\right) + \\left( \\sum_{k=1}^n |b_k|^p \\right) $$\n",
    "\n",
    "Now, let's consider the function $(f(x) = |x|^p)$. By applying Hölder’s Inequality, we get:\n",
    "$$ \\sum_{k=1}^n |a_k + b_k|^p \\leq \\left( \\sum_{k=1}^n |a_k|^p \\right)^{\\frac{1}{p}} \\left( \\sum_{k=1}^n |b_k|^p \\right)^{\\frac{1}{p}} $$\n",
    "\n",
    "However, our initial assumption leads to a contradiction since it suggests that the left-hand side of the inequality is greater than the right-hand side, which contradicts Hölder’s Inequality.\n",
    "\n",
    "Hence, we conclude that:\n",
    "$$ \\left( \\sum_{k=1}^n |a_k + b_k|^p \\right)^{\\frac{1}{p}} \\leq \\left( \\sum_{k=1}^n |a_k|^p \\right)^{\\frac{1}{p}} + \\left( \\sum_{k=1}^n |b_k|^p \\right)^{\\frac{1}{p}} $$\n",
    "is true.\n",
    "<hr>"
   ]
  },
  {
   "cell_type": "markdown",
   "metadata": {},
   "source": [
    "3. Prove the triangle inequality $|x+y| \\leq |x| + |y|, \\forall (x,y) \\in \\mathbb{R}$"
   ]
  },
  {
   "cell_type": "markdown",
   "metadata": {},
   "source": [
    "## Solution: Direct Proof of Triangle Inequality\n",
    "\n",
    "**Proof:**\n",
    "\n",
    "We aim to prove the triangle inequality $|x+y| \\leq |x| + |y|$ for all $x, y \\in \\mathbb{R}$.\n",
    "\n",
    "To do this, let's consider the expression $(|x| + |y|)^2$. Expanding it, we get:\n",
    "\\[ $|x|^2 + 2|x||y| + |y|^2 \\geq x^2 + 2xy + y^2$ \\]\n",
    "\n",
    "Since the square of any real number is non-negative, each term on the left side is non-negative. Hence, we have:\n",
    "\\[ $|x|^2 + 2|x||y| + |y|^2 = (|x| + |y|)^2 $\\]\n",
    "\\[ $x^2 + 2xy + y^2 = (x+y)^2 $\\]\n",
    "\n",
    "Therefore, $(|x| + |y|)^2 \\geq (x+y)^2$.\n",
    "\n",
    "Taking the square root of both sides preserves the inequality due to the non-negativity of square roots:\n",
    "\\[ $\\sqrt{(|x|+|y|)^2}$ $\\geq$ $\\sqrt{(x+y)^2}$ \\]\n",
    "\n",
    "This simplifies to:\n",
    "\\[ $|x| + |y| \\geq |x + y|$ \\]\n"
   ]
  },
  {
   "cell_type": "markdown",
   "metadata": {},
   "source": [
    "## Solution: Proof by Contradiction of Triangle Inequality\n",
    "\n",
    "**Proof By Contradiction**\n",
    "\n",
    "Assume, for contradiction, that there exist $x, y \\in \\mathbb{R}$ such that $|x+y| > |x| + |y|$.\n",
    "\n",
    "Let $x = -1$ and $y = 1$. Then, we have:\n",
    "\\[ |x+y| = |(-1) + 1| = |0| = 0 \\]\n",
    "\\[ |x| + |y| = |-1| + |1| = 1 + 1 = 2 \\]\n",
    "\n",
    "This contradicts our assumption that $|x+y| > |x| + |y|$.\n",
    "\n",
    "Therefore, our assumption is false, and it must be the case that $|x+y| \\leq |x| + |y|$ for all $x, y \\in \\mathbb{R}$, which is the triangle inequality.\n",
    "<hr>"
   ]
  },
  {
   "cell_type": "markdown",
   "metadata": {},
   "source": [
    "4. Prove Sedrakayan's Lemma $\\forall u_i, v_i \\in \\mathbb{R}^+$:\n",
    "\\begin{gather}\n",
    "\\frac{(\\Sigma_{i=1}^n u_i)^2}{\\Sigma_{i=1}^n v_i}\n",
    "\\leq\n",
    "\\Sigma_{i=1}^n \\frac{(u_i)^2}{v_i}\n",
    "\\end{gather}"
   ]
  },
  {
   "cell_type": "markdown",
   "metadata": {},
   "source": [
    "### Direct Proof of Sedrakayan's Lemma\n",
    "\n",
    "**Proof:**\n",
    "\n",
    "To establish Sedrakayan's Lemma, we need to show that for all positive real numbers $u_i$ and $v_i$, the following inequality holds:\n",
    "\n",
    "\\[$\n",
    "\\left(\\frac{\\sum_{i=1}^n u_i}{\\sum_{i=1}^n v_i}\\right)^2 \\leq \\sum_{i=1}^n \\frac{u_i^2}{v_i}\n",
    "$\\]\n",
    "\n",
    "We will utilize the Cauchy-Schwarz Inequality to derive this result.\n",
    "\n",
    "#### Cauchy-Schwarz Inequality:\n",
    "\n",
    "For any sequences of real numbers $a_i$ and $b_i$, the Cauchy-Schwarz Inequality states:\n",
    "\n",
    "\\[\n",
    "$\\left(\\sum_{i=1}^n a_ib_i\\right)^2 \\leq \\left(\\sum_{i=1}^n a_i^2\\right) \\left(\\sum_{i=1}^n b_i^2\\right)$\n",
    "\\]\n",
    "\n",
    "#### Application to Sedrakayan's Lemma:\n",
    "\n",
    "Let's define $a_i = \\sqrt{u_i}$ and $b_i = \\frac{1}{\\sqrt{v_i}}$. Then, we can rewrite the Cauchy-Schwarz Inequality as:\n",
    "\n",
    "\\[\n",
    "$\\left(\\sum_{i=1}^n \\sqrt{u_i} \\cdot \\frac{1}{\\sqrt{v_i}}\\right)^2 \\leq \\left(\\sum_{i=1}^n u_i\\right) \\left(\\sum_{i=1}^n \\frac{1}{v_i}\\right)$\n",
    "\\]\n",
    "\n",
    "Simplifying both sides, we get:\n",
    "\n",
    "\\[\n",
    "$\\left(\\frac{\\sum_{i=1}^n u_i}{\\sum_{i=1}^n v_i}\\right)^2 \\leq \\sum_{i=1}^n \\frac{u_i^2}{v_i}$\n",
    "\\]\n",
    "\n",
    "This completes the proof of Sedrakayan's Lemma.\n",
    "\n"
   ]
  },
  {
   "cell_type": "markdown",
   "metadata": {},
   "source": [
    "### Proof by Contradiction of Sedrakayan's Lemma\n",
    "\n",
    "**Proof:**\n",
    "\n",
    "Assume, for contradiction, that Sedrakayan's Lemma does not hold. That is, suppose there exist positive real numbers $u_i$ and $v_i$ such that:\n",
    "\n",
    "\\[$\n",
    "\\left(\\frac{\\sum_{i=1}^n u_i}{\\sum_{i=1}^n v_i}\\right)^2 > \\sum_{i=1}^n \\frac{u_i^2}{v_i}$\n",
    "\\]\n",
    "\n",
    "Now, let's consider the function $f(i) = \\frac{u_i}{v_i}$ for each $i \\in \\{1, 2, \\ldots, n\\}$. \n",
    "\n",
    "By the assumption, we have:\n",
    "\n",
    "\\[$\n",
    "\\left(\\sum_{i=1}^n f(i)\\right)^2 > \\sum_{i=1}^n f(i)^2$\n",
    "\\]\n",
    "\n",
    "However, this contradicts the Cauchy-Schwarz Inequality, which states that for any sequences of real numbers $a_i$ and $b_i$:\n",
    "\n",
    "\\[$\n",
    "\\left(\\sum_{i=1}^n a_ib_i\\right)^2 \\leq \\left(\\sum_{i=1}^n a_i^2\\right) \\left(\\sum_{i=1}^n b_i^2\\right)$\n",
    "\\]\n",
    "\n",
    "Therefore, our assumption is false, and Sedrakayan's Lemma holds true.\n",
    "\n",
    "This completes the proof by contradiction.\n"
   ]
  }
 ],
 "metadata": {
  "kernelspec": {
   "display_name": "Python 3",
   "language": "python",
   "name": "python3"
  },
  "language_info": {
   "name": "python",
   "version": "3.11.9"
  }
 },
 "nbformat": 4,
 "nbformat_minor": 2
}
